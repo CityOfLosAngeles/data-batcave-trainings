{
 "cells": [
  {
   "cell_type": "markdown",
   "metadata": {},
   "source": [
    "# API Batcave Yelp Codealong"
   ]
  },
  {
   "cell_type": "markdown",
   "metadata": {},
   "source": [
    "### Import Requests Library"
   ]
  },
  {
   "cell_type": "code",
   "execution_count": null,
   "metadata": {
    "collapsed": true
   },
   "outputs": [],
   "source": [
    "import requests as r"
   ]
  },
  {
   "cell_type": "markdown",
   "metadata": {},
   "source": [
    "### Setting Up API Call"
   ]
  },
  {
   "cell_type": "markdown",
   "metadata": {},
   "source": [
    "![Yelp URL](resources/YelpURL.png)"
   ]
  },
  {
   "cell_type": "code",
   "execution_count": null,
   "metadata": {
    "collapsed": true
   },
   "outputs": [],
   "source": [
    "url = \"https://api.yelp.com/v3/businesses/search\""
   ]
  },
  {
   "cell_type": "code",
   "execution_count": null,
   "metadata": {
    "collapsed": true
   },
   "outputs": [],
   "source": [
    "key = "
   ]
  },
  {
   "cell_type": "code",
   "execution_count": null,
   "metadata": {
    "collapsed": true
   },
   "outputs": [],
   "source": [
    "headers = {\n",
    "\t\t'Authorization': 'Bearer %s' % key,\n",
    "}\n",
    "#Header provides meta info regarding request\n",
    "#Bearer is type of token"
   ]
  },
  {
   "cell_type": "markdown",
   "metadata": {},
   "source": [
    "![Yelp Params](resources/YelpParams.png)"
   ]
  },
  {
   "cell_type": "code",
   "execution_count": null,
   "metadata": {
    "collapsed": true
   },
   "outputs": [],
   "source": [
    "url_params = {\"term\":\"bars\",\n",
    "\"location\" : \"200 N Spring St Los Angeles CA 90012\",\n",
    "\"limit\" : 50,\n",
    "\"radius\": 1610}"
   ]
  },
  {
   "cell_type": "code",
   "execution_count": null,
   "metadata": {
    "collapsed": true
   },
   "outputs": [],
   "source": [
    "response = r.request('GET', url, headers=headers, params=url_params)"
   ]
  },
  {
   "cell_type": "markdown",
   "metadata": {},
   "source": [
    "### Analyzing Data"
   ]
  },
  {
   "cell_type": "code",
   "execution_count": null,
   "metadata": {},
   "outputs": [],
   "source": [
    "response.json()"
   ]
  },
  {
   "cell_type": "code",
   "execution_count": null,
   "metadata": {},
   "outputs": [],
   "source": [
    "response.json()[\"total\"]"
   ]
  },
  {
   "cell_type": "code",
   "execution_count": null,
   "metadata": {},
   "outputs": [],
   "source": [
    "len(response.json()[\"businesses\"])"
   ]
  },
  {
   "cell_type": "code",
   "execution_count": null,
   "metadata": {},
   "outputs": [],
   "source": [
    "response.json()[\"businesses\"][0]"
   ]
  },
  {
   "cell_type": "code",
   "execution_count": null,
   "metadata": {},
   "outputs": [],
   "source": [
    "response.json()[\"businesses\"][1]"
   ]
  },
  {
   "cell_type": "markdown",
   "metadata": {},
   "source": [
    "### Store Data Into CSV"
   ]
  },
  {
   "cell_type": "code",
   "execution_count": null,
   "metadata": {
    "collapsed": true
   },
   "outputs": [],
   "source": [
    "business_list = []\n",
    "for business in response.json()[\"businesses\"]:\n",
    "    name = business[\"name\"]\n",
    "    address = \" \".join(business[\"location\"][\"display_address\"])\n",
    "    phone = business[\"phone\"]\n",
    "    yelp_url = business[\"url\"]\n",
    "    reviews = business[\"review_count\"]\n",
    "    rating = business[\"rating\"]\n",
    "    \n",
    "    try:\n",
    "        price = business[\"price\"]\n",
    "    except KeyError:\n",
    "        price = \"\"\n",
    "    \n",
    "    try:\n",
    "        category1 = business[\"categories\"][0][\"title\"]\n",
    "    except (KeyError, IndexError):\n",
    "        category1 = \"\"\n",
    "    \n",
    "    try:\n",
    "        category2 = business[\"categories\"][1][\"title\"]\n",
    "    except (KeyError, IndexError):\n",
    "        category2 = \"\"\n",
    "    \n",
    "    try:\n",
    "        category3 = business[\"categories\"][2][\"title\"]\n",
    "    except (KeyError, IndexError):\n",
    "        category3 = \"\"\n",
    "    \n",
    "    business_list.append([name, address, phone, yelp_url, reviews, rating, price, category1, category2, category3])"
   ]
  },
  {
   "cell_type": "code",
   "execution_count": null,
   "metadata": {
    "collapsed": true
   },
   "outputs": [],
   "source": [
    "import pandas as pd"
   ]
  },
  {
   "cell_type": "code",
   "execution_count": null,
   "metadata": {
    "collapsed": true
   },
   "outputs": [],
   "source": [
    "df = pd.DataFrame(business_list, columns = [\"name\", \"address\", \"phone\", \"yelp_url\", \"reviews\", \"rating\", \"price\", \"category1\", \"category2\", \"category3\"])"
   ]
  },
  {
   "cell_type": "code",
   "execution_count": null,
   "metadata": {
    "collapsed": true
   },
   "outputs": [],
   "source": [
    "df.to_csv(\"city_hall_bars.csv\", index = False)"
   ]
  },
  {
   "cell_type": "markdown",
   "metadata": {},
   "source": [
    "### Top 5 Bars by Rating"
   ]
  },
  {
   "cell_type": "code",
   "execution_count": null,
   "metadata": {},
   "outputs": [],
   "source": [
    "df.sort_values(\"reviews\", ascending = False).head()[[\"name\", \"reviews\", \"rating\", \"price\"]]"
   ]
  }
 ],
 "metadata": {
  "kernelspec": {
   "display_name": "Python 2",
   "language": "python",
   "name": "python2"
  },
  "language_info": {
   "codemirror_mode": {
    "name": "ipython",
    "version": 2
   },
   "file_extension": ".py",
   "mimetype": "text/x-python",
   "name": "python",
   "nbconvert_exporter": "python",
   "pygments_lexer": "ipython2",
   "version": "2.7.13"
  }
 },
 "nbformat": 4,
 "nbformat_minor": 2
}
