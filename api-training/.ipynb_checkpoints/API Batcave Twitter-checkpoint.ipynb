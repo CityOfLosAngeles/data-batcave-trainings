{
 "cells": [
  {
   "cell_type": "markdown",
   "metadata": {},
   "source": [
    "# API Batcave Twitter Codealong"
   ]
  },
  {
   "cell_type": "markdown",
   "metadata": {},
   "source": [
    "### Import Twitter Library"
   ]
  },
  {
   "cell_type": "code",
   "execution_count": 1,
   "metadata": {
    "collapsed": true
   },
   "outputs": [],
   "source": [
    "import twitter"
   ]
  },
  {
   "cell_type": "markdown",
   "metadata": {},
   "source": [
    "### Create Twitter API Instance with Authentication\n",
    "![Twitter Authentication](resources/TwitterAuthentication.png)"
   ]
  },
  {
   "cell_type": "code",
   "execution_count": 2,
   "metadata": {
    "collapsed": true
   },
   "outputs": [],
   "source": [
    "api = twitter.Api(consumer_key='DmvV1f8k1hjXEUPWSbVnxynUs',\n",
    "                      consumer_secret='6ZeKdTvO3s4IWYjVkFAPM759IWttPKSEhSwCWC9YM811YlY7Ho',\n",
    "                      access_token_key='593975723-LJz9oFBthT6WzaP5WYx7QvNjGgjC7l1UA1sQOUOc',\n",
    "                      access_token_secret='RJuKyMBkMUhrp38aJmJ5dxSs9zVubp7ax3dT64lbXbY77')"
   ]
  },
  {
   "cell_type": "markdown",
   "metadata": {},
   "source": [
    "### Get Mayor Eric Garcetti's Most Recent 200 Tweets\n",
    "![Get User Timeline](resources/GetUserTimeline.png)"
   ]
  },
  {
   "cell_type": "code",
   "execution_count": 3,
   "metadata": {
    "collapsed": true
   },
   "outputs": [],
   "source": [
    "user = \"@ericgarcetti\""
   ]
  },
  {
   "cell_type": "code",
   "execution_count": 4,
   "metadata": {
    "collapsed": true
   },
   "outputs": [],
   "source": [
    "statuses = api.GetUserTimeline(screen_name = user, count = 200)"
   ]
  },
  {
   "cell_type": "markdown",
   "metadata": {},
   "source": [
    "### Analysis of Collected Data"
   ]
  },
  {
   "cell_type": "code",
   "execution_count": 5,
   "metadata": {},
   "outputs": [
    {
     "data": {
      "text/plain": [
       "[Status(ID=1025051675969519616, ScreenName=ericgarcetti, Created=Thu Aug 02 16:12:18 +0000 2018, Text=u'RT @MayorOfLA: L.A. will not watch idly while the president tries to return us to a time when the smog was so thick we could not go outside\\u2026'),\n",
       " Status(ID=1024735142458417154, ScreenName=ericgarcetti, Created=Wed Aug 01 19:14:31 +0000 2018, Text=u'This is a man who says he represents working-class Americans. He doesn\\u2019t even know how to buy groceries. \\nhttps://t.co/eEy6Ce3joL'),\n",
       " Status(ID=1024413900295602177, ScreenName=ericgarcetti, Created=Tue Jul 31 21:58:01 +0000 2018, Text=u'Thrilled to join @ChelseaHandler to support @KatieHill4CA, @KatiePorterOC and @MikeLevinCA this Sunday. The\\u2026 https://t.co/wti88qplEG'),\n",
       " Status(ID=1023666972884709377, ScreenName=ericgarcetti, Created=Sun Jul 29 20:29:59 +0000 2018, Text=u'All of us at @usaccelerate learned and benefitted from Jeremy Nowak, and our work is immensely stronger as a result\\u2026 https://t.co/xjuGytSQs8'),\n",
       " Status(ID=1023665587598368769, ScreenName=ericgarcetti, Created=Sun Jul 29 20:24:29 +0000 2018, Text=u'From the day I met Jeremy Nowak, I knew he\\u2019d challenge, demand, inquire, and care deeply about economic injustice.\\u2026 https://t.co/A5HLaMiaLy'),\n",
       " Status(ID=1023636803801284608, ScreenName=ericgarcetti, Created=Sun Jul 29 18:30:06 +0000 2018, Text=u'Democrats have outraised House Republican incumbents in 56 districts this cycle so far. Let\\u2019s keep that number grow\\u2026 https://t.co/yDCUqbfGCH'),\n",
       " Status(ID=1023606590916755456, ScreenName=ericgarcetti, Created=Sun Jul 29 16:30:03 +0000 2018, Text=u'Only 100 days until Election Day. The Democratic Midterm Victory Fund is supporting key races up and down the ballo\\u2026 https://t.co/b74mAP73zJ'),\n",
       " Status(ID=1022625134736224261, ScreenName=ericgarcetti, Created=Thu Jul 26 23:30:06 +0000 2018, Text=u'Now, more than ever, we need strong leaders who can stand strong for #CA and against Trump. That\\u2019s why I\\u2019m 150% wit\\u2026 https://t.co/RNul0gPmh3'),\n",
       " Status(ID=1022569256955863055, ScreenName=ericgarcetti, Created=Thu Jul 26 19:48:03 +0000 2018, Text=u\"Proud to endorse @KatieHill4CA, a proven leader who gets results. I've seen first-hand how her work has been instru\\u2026 https://t.co/kuKGgGI0Bx\"),\n",
       " Status(ID=1022267654986444801, ScreenName=ericgarcetti, Created=Wed Jul 25 23:49:36 +0000 2018, Text=u\"In 2016, we made community college free here in LA, changing thousands of students' lives.\\n\\nHaving a national initi\\u2026 https://t.co/mXHlVYZgBC\"),\n",
       " Status(ID=1022248440024248320, ScreenName=ericgarcetti, Created=Wed Jul 25 22:33:15 +0000 2018, Text=u\"Brian Kemp is no match for the incredible trailblazer we have in my good friend @StaceyAbrams. Let's show the next\\u2026 https://t.co/IyXgLQRmbp\"),\n",
       " Status(ID=1021838092867710977, ScreenName=ericgarcetti, Created=Tue Jul 24 19:22:40 +0000 2018, Text=u\"CA doesn't need DC to tell us how to clean our air. When I was a kid, we had Smog Alerts -- a brown layer would set\\u2026 https://t.co/ypUsPchszG\"),\n",
       " Status(ID=1021809739615936512, ScreenName=ericgarcetti, Created=Tue Jul 24 17:30:00 +0000 2018, Text=u'My immigrant grandfather earned his citizenship after serving in the Army. He inspired me to join the Navy and pave\\u2026 https://t.co/6MTXq73qEY'),\n",
       " Status(ID=1021507974278336512, ScreenName=ericgarcetti, Created=Mon Jul 23 21:30:54 +0000 2018, Text=u'Support the Democratic Midterm Victory Fund to take back our states and take back our country: https://t.co/zDNmME6NLG'),\n",
       " Status(ID=1021507898139193344, ScreenName=ericgarcetti, Created=Mon Jul 23 21:30:36 +0000 2018, Text=u'Together, you and I helped the @SCDP organize a movement to register voters, flip House seats, and win races up and\\u2026 https://t.co/jnJBko2S3I'),\n",
       " Status(ID=1020872640683171840, ScreenName=ericgarcetti, Created=Sun Jul 22 03:26:19 +0000 2018, Text=u'A very sad day for LA as Jonathan Gold left us. He was the soul of this city and all of its amazing flavors. He was\\u2026 https://t.co/UyvsEwBDgn'),\n",
       " Status(ID=1020845099700240384, ScreenName=ericgarcetti, Created=Sun Jul 22 01:36:52 +0000 2018, Text=u'Thank you to @LAPDHQ for the heroic work today. Suspect in custody. Family members please contact NE division at 32\\u2026 https://t.co/yeueGsxYB5'),\n",
       " Status(ID=1020402273405538305, ScreenName=ericgarcetti, Created=Fri Jul 20 20:17:14 +0000 2018, Text=u'On @NatlVoterRegDay 9/25, LA is going to be the first city to team up with @AMarch4OurLives to organize national vo\\u2026 https://t.co/HzrlSuuEiT'),\n",
       " Status(ID=1020390430431727616, ScreenName=ericgarcetti, Created=Fri Jul 20 19:30:11 +0000 2018, Text=u'And the end game is? https://t.co/UqxGU6sQEj'),\n",
       " Status(ID=1019686631274672128, ScreenName=ericgarcetti, Created=Wed Jul 18 20:53:32 +0000 2018, Text=u\"You can't buy California, @TimDraper. Three cheers to the California Supreme Court for stopping #Cal3! https://t.co/rwV3isXwue\"),\n",
       " Status(ID=1019635456500289537, ScreenName=ericgarcetti, Created=Wed Jul 18 17:30:11 +0000 2018, Text=u'Happy National Hot Dog Day! Not to brag, but I highly recommend the \\u201cMayor\\u2019s Dog\\u201d from @PinksHotDogs. https://t.co/repHTmVX9I'),\n",
       " Status(ID=1019252928287248384, ScreenName=ericgarcetti, Created=Tue Jul 17 16:10:09 +0000 2018, Text=u\"Happy birthday, Angela Merkel! Let's show our real allies a little love today.\"),\n",
       " Status(ID=1019042832655486976, ScreenName=ericgarcetti, Created=Tue Jul 17 02:15:18 +0000 2018, Text=u'My thoughts are with all of our neighbors in NorCal affected by the wildfires, and with the fearless @CAL_FIRE fire\\u2026 https://t.co/rIcSoaHwIh'),\n",
       " Status(ID=1018931537595764736, ScreenName=ericgarcetti, Created=Mon Jul 16 18:53:04 +0000 2018, Text=u'.@realDonaldTrump is trusting Putin, a trained KGB officer, over his own military and intelligence. When I served i\\u2026 https://t.co/1rpWZ9HTNp'),\n",
       " Status(ID=1018918376171884544, ScreenName=ericgarcetti, Created=Mon Jul 16 18:00:46 +0000 2018, Text=u'Billionaire @TimDraper is pouring his money into breaking California into three states. California, we belong toget\\u2026 https://t.co/hj8gShu5qo'),\n",
       " Status(ID=1018653944782970880, ScreenName=ericgarcetti, Created=Mon Jul 16 00:30:00 +0000 2018, Text=u'Putting Trump\\u2019s second appointment to the Supreme Court aside for a moment, here is a state-by-state look at the ba\\u2026 https://t.co/byGNKJfVAF'),\n",
       " Status(ID=1017848919412346881, ScreenName=ericgarcetti, Created=Fri Jul 13 19:11:07 +0000 2018, Text=u'\\U0001f32e with the next California Governor, @GavinNewsom. https://t.co/Lp5Q4w61Sx'),\n",
       " Status(ID=1017840956924624898, ScreenName=ericgarcetti, Created=Fri Jul 13 18:39:29 +0000 2018, Text=u'United as Democrats. United for California. United for Los Angeles. United behind @GavinNewsom. https://t.co/Mo1EfEnlFE'),\n",
       " Status(ID=1017208969851359232, ScreenName=ericgarcetti, Created=Thu Jul 12 00:48:11 +0000 2018, Text=u'As we work to reunify families, please watch this: https://t.co/77IBe1c1mT #MyNameIsMirian EG'),\n",
       " Status(ID=1017128552356040704, ScreenName=ericgarcetti, Created=Wed Jul 11 19:28:38 +0000 2018, Text=u'Earth to @realDonaldTrump: The real \"captive of Russia\" was your campaign. https://t.co/01xjW2VKNk'),\n",
       " Status(ID=1017093388250828801, ScreenName=ericgarcetti, Created=Wed Jul 11 17:08:55 +0000 2018, Text=u\"LA shares many of the same challenges faced by communities across the USA. But unlike our leaders in DC, we're maki\\u2026 https://t.co/FS4iyZ5iNm\"),\n",
       " Status(ID=1016816315573547008, ScreenName=ericgarcetti, Created=Tue Jul 10 22:47:55 +0000 2018, Text=u'Griffith Park fire containment going very well.  Helicopters and ground crews were well-coordinated. Approx 10 acre\\u2026 https://t.co/uk5DCGhFaF'),\n",
       " Status(ID=1016799473870168064, ScreenName=ericgarcetti, Created=Tue Jul 10 21:41:00 +0000 2018, Text=u'Incident Commander is reporting Griffith Park Fire is primarily topography driven with wind out of the Southeast. M\\u2026 https://t.co/iE3cu1pGUi'),\n",
       " Status(ID=1016799289845018624, ScreenName=ericgarcetti, Created=Tue Jul 10 21:40:16 +0000 2018, Text=u'Projection of possible burn area of Griffith Park Fire attached (note: this area is not necessarily expected to bur\\u2026 https://t.co/mot3Fb3CvY'),\n",
       " Status(ID=1016798530558545921, ScreenName=ericgarcetti, Created=Tue Jul 10 21:37:15 +0000 2018, Text=u'Approx. 2 acre fire has broken out next to Observatory in Griffith Park. Low winds, high humidity and downhill burn\\u2026 https://t.co/NRK4A4cWTh'),\n",
       " Status(ID=1016536575532941312, ScreenName=ericgarcetti, Created=Tue Jul 10 04:16:20 +0000 2018, Text=u\"RT @TheDemocrats: The White House sent reporters 34 testimonials in support of Trump's nominee for the Supreme Court, Brett Kavanaugh.\\n\\nThe\\u2026\"),\n",
       " Status(ID=1016490545995288576, ScreenName=ericgarcetti, Created=Tue Jul 10 01:13:26 +0000 2018, Text=u\"Now we have an anti-choice Congress, president, and are one step away from an anti-choice #SCOTUS. It's on us to pr\\u2026 https://t.co/3LH4r7aRyE\"),\n",
       " Status(ID=1016490388184592384, ScreenName=ericgarcetti, Created=Tue Jul 10 01:12:48 +0000 2018, Text=u\"Trump\\u2019s wolf in judge\\u2019s clothing is wrong for choice, wrong for equality, and wrong for America. GOP senators, we'r\\u2026 https://t.co/MlUAMerrJd\"),\n",
       " Status(ID=1016117240700329984, ScreenName=ericgarcetti, Created=Mon Jul 09 00:30:03 +0000 2018, Text=u'\\u201cBasically anybody who knows anything about healthcare is opposed to these proposals. It\\u2019s amazing.\\u201d I could have s\\u2026 https://t.co/f1aMYR5V5O'),\n",
       " Status(ID=1015377360844132353, ScreenName=ericgarcetti, Created=Fri Jul 06 23:30:02 +0000 2018, Text=u'Flashback to volunteering with the incredible team at @WestsideDemHQ. \\n\\nMaking calls or canvassing is one of the be\\u2026 https://t.co/RoPWulf3gn'),\n",
       " Status(ID=1014967351681351680, ScreenName=ericgarcetti, Created=Thu Jul 05 20:20:48 +0000 2018, Text=u'Scott Pruitt\\u2019s resignation is the best thing he\\u2019s done to protect the environment. https://t.co/XdyMydV4cy'),\n",
       " Status(ID=1014562001102794767, ScreenName=ericgarcetti, Created=Wed Jul 04 17:30:05 +0000 2018, Text=u'On this #IndependenceDay, I hope our leaders in Washington take the time to remember the principles adopted by our\\u2026 https://t.co/at8u5cZaeR'),\n",
       " Status(ID=1014220306272194561, ScreenName=ericgarcetti, Created=Tue Jul 03 18:52:18 +0000 2018, Text=u\"This is a president who's really screwed up. He doesn\\u2019t understand how to govern or how to protect us.\\u2026 https://t.co/DDkgDyMoiX\"),\n",
       " Status(ID=1013890418273062914, ScreenName=ericgarcetti, Created=Mon Jul 02 21:01:27 +0000 2018, Text=u'Proud to have joined @GavinNewsom, @KamalaHarris, over 70,000 people across LA, and hundreds of thousands of people\\u2026 https://t.co/vrawzXuZTa'),\n",
       " Status(ID=1013644276763381760, ScreenName=ericgarcetti, Created=Mon Jul 02 04:43:22 +0000 2018, Text=u'.@SteveBenjaminSC knows and lives #MayorsGetThingsDone https://t.co/mk5tLMtgGV'),\n",
       " Status(ID=1013581475734695937, ScreenName=ericgarcetti, Created=Mon Jul 02 00:33:49 +0000 2018, Text=u\"Welcome home, @KingJames. Here's to great days ahead. The City of Angels is ready for you to fly. EG\"),\n",
       " Status(ID=1013580528438710273, ScreenName=ericgarcetti, Created=Mon Jul 02 00:30:04 +0000 2018, Text=u'In last month\\u2019s #CAprimary, Democrats advanced to the general election in every single district -- even those held\\u2026 https://t.co/wX4iAjETb5'),\n",
       " Status(ID=1012780242828779526, ScreenName=ericgarcetti, Created=Fri Jun 29 19:30:01 +0000 2018, Text=u'Our mission is to elect Democrats to Congress and up and down the ballot who will stand up for our country -- for t\\u2026 https://t.co/SNWaAgOFEX'),\n",
       " Status(ID=1012750106863505408, ScreenName=ericgarcetti, Created=Fri Jun 29 17:30:16 +0000 2018, Text=u\"Justice Kennedy's retirement is one more clear reason we need the #BlueWave this November, especially in the Senate\\u2026 https://t.co/P2miJRGQmX\"),\n",
       " Status(ID=1012398713308876800, ScreenName=ericgarcetti, Created=Thu Jun 28 18:13:57 +0000 2018, Text=u\"I'm glad we're on the same page, Mitch. https://t.co/Oowgg1q5XK\"),\n",
       " Status(ID=1012102757082226688, ScreenName=ericgarcetti, Created=Wed Jun 27 22:37:55 +0000 2018, Text=u'RT @davidfholt: United with L.A. Mayor @ericgarcetti behind our Dodgers!   #OKLA\\n\\n@okc_dodgers @Dodgers https://t.co/kBo4tNfP1J'),\n",
       " Status(ID=1012046057340067840, ScreenName=ericgarcetti, Created=Wed Jun 27 18:52:37 +0000 2018, Text=u'With Justice Kennedy retiring, shouldn\\'t the Republican Senate invoke its own \"Garland Doctrine\" and wait for the r\\u2026 https://t.co/khP6ytAtHj'),\n",
       " Status(ID=1012026694742495235, ScreenName=ericgarcetti, Created=Wed Jun 27 17:35:41 +0000 2018, Text=u'Congrats to my good friend @BenJealous on winning the Democratic #MDgov nomination! \\n\\nBen is an incredible organize\\u2026 https://t.co/2HoFdZixjj'),\n",
       " Status(ID=1011993526161195008, ScreenName=ericgarcetti, Created=Wed Jun 27 15:23:53 +0000 2018, Text=u'This week from #SCOTUS: religious discrimination upheld, women and worker protections struck down. \\n\\nForget the rea\\u2026 https://t.co/hDihklG5Ez'),\n",
       " Status(ID=1011817836623355904, ScreenName=ericgarcetti, Created=Wed Jun 27 03:45:45 +0000 2018, Text=u'Congrats to @JaredPolis for becoming the Democratic #COgov nominee. Your experienced leadership, hard work ethic, a\\u2026 https://t.co/laU1o2SWVi'),\n",
       " Status(ID=1011684355754913800, ScreenName=ericgarcetti, Created=Tue Jun 26 18:55:21 +0000 2018, Text=u\"Attorney General Jeff Sessions is in L.A. today to deliver the Trump administration's message through a speech. \\n\\nS\\u2026 https://t.co/pyvPM4javT\"),\n",
       " Status(ID=1011655970425135105, ScreenName=ericgarcetti, Created=Tue Jun 26 17:02:33 +0000 2018, Text=u'Maryland, vote @BenJealous for #MDgov. My friend Ben has dedicated his life to bringing people together and getting\\u2026 https://t.co/unvKz1LWqG'),\n",
       " Status(ID=1011648679936225286, ScreenName=ericgarcetti, Created=Tue Jun 26 16:33:35 +0000 2018, Text=u'Let\\'s be clear: It\\'s not a \"Travel Ban\", it\\'s a \"Muslim Ban.\" They\\'re not \"pregnancy centers,\" they\\'re \"far-right a\\u2026 https://t.co/Z1kxSo661X'),\n",
       " Status(ID=1011587417743220736, ScreenName=ericgarcetti, Created=Tue Jun 26 12:30:09 +0000 2018, Text=u'Building a #BlueWave starts in the primaries. Colorado, Maryland, New York, Oklahoma, and Utah all head to the poll\\u2026 https://t.co/BvcnJfFkK3'),\n",
       " Status(ID=1011293061928845312, ScreenName=ericgarcetti, Created=Mon Jun 25 17:00:29 +0000 2018, Text=u\"73-23 for Trump in 2016. Now, #WV03 is a tossup. That's momentum. That's the #BlueWave at work. https://t.co/LQyvJouHiA\"),\n",
       " Status(ID=1011291691733659648, ScreenName=ericgarcetti, Created=Mon Jun 25 16:55:02 +0000 2018, Text=u'Congrats to @HarleyRouda for becoming the Democratic nominee in #CA48! Let\\u2019s elect Rouda in November. #BlueWave'),\n",
       " Status(ID=1010183213459951616, ScreenName=ericgarcetti, Created=Fri Jun 22 15:30:21 +0000 2018, Text=u'Happy birthday, @DianneFeinstein! Thanks for being the bold, courageous leader that California needs in the Senate.\\u2026 https://t.co/VrJ5q3Mb2k'),\n",
       " Status(ID=1009979302400716802, ScreenName=ericgarcetti, Created=Fri Jun 22 02:00:04 +0000 2018, Text=u'Happy Summer Solstice, LA. You\\u2019ve never looked brighter. https://t.co/9eCqp2m9Sp'),\n",
       " Status(ID=1009862996875730945, ScreenName=ericgarcetti, Created=Thu Jun 21 18:17:55 +0000 2018, Text=u'Children aren\\u2019t poker chips. They are people, and we demand that Washington fix the mess that it\\u2019s created. https://t.co/cybgNb6UM3'),\n",
       " Status(ID=1009843835508330497, ScreenName=ericgarcetti, Created=Thu Jun 21 17:01:47 +0000 2018, Text=u'How can an internment camp for children exist in the United States? I visited one today in Tornillo, TX, with a bip\\u2026 https://t.co/cz5htVy2Mt'),\n",
       " Status(ID=1009520181943693312, ScreenName=ericgarcetti, Created=Wed Jun 20 19:35:42 +0000 2018, Text=u\"Since when is America in favor of putting kids in concentration camps? Trump's policy of separating kids is a human\\u2026 https://t.co/X3tFS2lZa6\"),\n",
       " Status(ID=1009488574763454465, ScreenName=ericgarcetti, Created=Wed Jun 20 17:30:06 +0000 2018, Text=u'On today\\u2019s #WorldRefugeeDay, and every day, I #StandWithRefugees and urge Washington to get back to American values\\u2026 https://t.co/zikETe0fbq'),\n",
       " Status(ID=1009481313689243648, ScreenName=ericgarcetti, Created=Wed Jun 20 17:01:15 +0000 2018, Text=u'1 day after this ruling, DOJ sued KY to force it to purge its voter rolls -- and KY promptly agreed. This November,\\u2026 https://t.co/1i49zJqgim'),\n",
       " Status(ID=1009191624658882560, ScreenName=ericgarcetti, Created=Tue Jun 19 21:50:07 +0000 2018, Text=u'153 years ago today, the last enslaved African American was freed. But the fight for equality is far from over. Let\\u2026 https://t.co/3HhDfaAAMT'),\n",
       " Status(ID=1009126180627337216, ScreenName=ericgarcetti, Created=Tue Jun 19 17:30:04 +0000 2018, Text=u\"Even @TedCruz (Ted Cruz!) is humiliated by Donald Trump's cruel anti-family policy. https://t.co/ScSA3K3PH5 #FamiliesBelongTogether\"),\n",
       " Status(ID=1009116747826376704, ScreenName=ericgarcetti, Created=Tue Jun 19 16:52:35 +0000 2018, Text=u'These are children. There is no defense. Listen to their cries, then take your anger and turn it into action:\\u2026 https://t.co/wbGmIs0HBF'),\n",
       " Status(ID=1008821824430526464, ScreenName=ericgarcetti, Created=Mon Jun 18 21:20:40 +0000 2018, Text=u'\"I appreciate the need to enforce and protect our international boundaries, but this zero-tolerance policy is cruel\\u2026 https://t.co/T35aaAd88N'),\n",
       " Status(ID=1008806823204478977, ScreenName=ericgarcetti, Created=Mon Jun 18 20:21:04 +0000 2018, Text=u'Follow the $ and see where it goes: Ivanka Trump is in CA raising money for @RepJeffDenham, @RepDavidValadao,\\u2026 https://t.co/qqIWIZoiPr'),\n",
       " Status(ID=1008401434663112709, ScreenName=ericgarcetti, Created=Sun Jun 17 17:30:11 +0000 2018, Text=u\"Happy Father's Day to all the dads out there, and especially to my incredible, loving, brilliant, and talented fath\\u2026 https://t.co/3A7ZtKBxcY\"),\n",
       " Status(ID=1008039016845934592, ScreenName=ericgarcetti, Created=Sat Jun 16 17:30:04 +0000 2018, Text=u'Momentum.\\nhttps://t.co/Eb4hfrufDl'),\n",
       " Status(ID=1007744651942617090, ScreenName=ericgarcetti, Created=Fri Jun 15 22:00:22 +0000 2018, Text=u'To everyone across Los Angeles and the country celebrating the end of the holy month of Ramadan, #EidMubarak!'),\n",
       " Status(ID=1007669228558745600, ScreenName=ericgarcetti, Created=Fri Jun 15 17:00:40 +0000 2018, Text=u'Everyone should think about their role in these difficult times. Everyone should consider running for office. (Incl\\u2026 https://t.co/hMY6IpdVJ9'),\n",
       " Status(ID=1007410930144210944, ScreenName=ericgarcetti, Created=Thu Jun 14 23:54:17 +0000 2018, Text=u\"Today, we're sending a check to @WildForCongress: She's visiting every corner of her swing district and aggressivel\\u2026 https://t.co/3sx1c4KbO4\"),\n",
       " Status(ID=1007323309099356160, ScreenName=ericgarcetti, Created=Thu Jun 14 18:06:06 +0000 2018, Text=u\"It's nice that @realDonaldTrump can celebrate his birthday with his family today. I wonder how many kids in his det\\u2026 https://t.co/CgJ6QIRTTf\"),\n",
       " Status(ID=1007306773055885313, ScreenName=ericgarcetti, Created=Thu Jun 14 17:00:24 +0000 2018, Text=u'If peace breaks out in Korea, it helps us get back to our true enemy: Canada. https://t.co/VBKYmJEmGB @JustinTrudeau https://t.co/387P0QKlmB'),\n",
       " Status(ID=1007019944075251719, ScreenName=ericgarcetti, Created=Wed Jun 13 22:00:38 +0000 2018, Text=u\"Congrats to @LondonBreed, San Francisco's next mayor! I look forward to working with you to take on our state's hom\\u2026 https://t.co/gLLLEt0SQY\"),\n",
       " Status(ID=1006997174985650176, ScreenName=ericgarcetti, Created=Wed Jun 13 20:30:10 +0000 2018, Text=u\"In Virginia, @VAdemocrats nominated women to run in all four of VA's vulnerable red seats. These strong women will lead the #BlueWave in VA.\"),\n",
       " Status(ID=1006982055232724992, ScreenName=ericgarcetti, Created=Wed Jun 13 19:30:05 +0000 2018, Text=u\"In an unexpected WIN, Democrat @CalebFrostman flipped WI's #SD01. This is big news. Wisconsin Republican Governor S\\u2026 https://t.co/hYZZvaVevU\"),\n",
       " Status(ID=1006977674882043905, ScreenName=ericgarcetti, Created=Wed Jun 13 19:12:41 +0000 2018, Text=u\"Last night's big turnout and even bigger wins in South Carolina are why the work of state parties like @SCDP matter\\u2026 https://t.co/rSKtciBJMS\"),\n",
       " Status(ID=1006967303437766657, ScreenName=ericgarcetti, Created=Wed Jun 13 18:31:28 +0000 2018, Text=u'Mayor @MelvinCarter3, your raccoons make us all want to #ClimbHigher. #MPRraccoon https://t.co/R5iAlS9mBR'),\n",
       " Status(ID=1006960037317758976, ScreenName=ericgarcetti, Created=Wed Jun 13 18:02:35 +0000 2018, Text=u\"This is a country of immigrants. It's time we stop separating families and get back to the generosity that our coun\\u2026 https://t.co/bUWG8BqF7F\"),\n",
       " Status(ID=1006765547890069504, ScreenName=ericgarcetti, Created=Wed Jun 13 05:09:46 +0000 2018, Text=u'Had a great time on @TheDailyShow. Thanks for having me, @TrevorNoah. https://t.co/wlaSFMNOUv'),\n",
       " Status(ID=1006746696532070400, ScreenName=ericgarcetti, Created=Wed Jun 13 03:54:51 +0000 2018, Text=u'Congrats to @RosenforNevada for winning the Nevada Democratic primary for U.S. Senate. We need to flip two Senate s\\u2026 https://t.co/2DBcXatmXr'),\n",
       " Status(ID=1006616287924154368, ScreenName=ericgarcetti, Created=Tue Jun 12 19:16:39 +0000 2018, Text=u'Exactly two years ago, 49 lives were lost at a shooting at the LGBTQ+ #Pulse Nightclub. Today, we remember and hono\\u2026 https://t.co/qAELQxAkdB'),\n",
       " Status(ID=1006513995623337984, ScreenName=ericgarcetti, Created=Tue Jun 12 12:30:11 +0000 2018, Text=u'There hasn\\u2019t been a single race this year in which we haven\\u2019t closed the gap from 2016 or won. Maine, Nevada, South\\u2026 https://t.co/cKA26wCAGo'),\n",
       " Status(ID=1006257322354708480, ScreenName=ericgarcetti, Created=Mon Jun 11 19:30:15 +0000 2018, Text=u'Our government should be doing everything it can to empower people to vote. There\\u2019s only one party working to activ\\u2026 https://t.co/q7HVdHHglu'),\n",
       " Status(ID=1006241249408487424, ScreenName=ericgarcetti, Created=Mon Jun 11 18:26:23 +0000 2018, Text=u\"Proud to have been part of this year's @lapride. \\u200b\\u200bNo matter what, we will always stand up and fight for full equal\\u2026 https://t.co/QtzN7v2Tv8\"),\n",
       " Status(ID=1005502322691182592, ScreenName=ericgarcetti, Created=Sat Jun 09 17:30:09 +0000 2018, Text=u'Can your mayor do this? https://t.co/D9WRqSLgpQ'),\n",
       " Status(ID=1005226251093729281, ScreenName=ericgarcetti, Created=Fri Jun 08 23:13:09 +0000 2018, Text=u'@JoshGottheimer @ScottWallacePA @ginaortizjones @McCreadyForNC @kyrstensinema @BenMcAdams @staceyabrams\\u2026 https://t.co/JbqICFzV3I'),\n",
       " Status(ID=1005226006007959552, ScreenName=ericgarcetti, Created=Fri Jun 08 23:12:10 +0000 2018, Text=u'Democratic Midterm Victory Fund checks are in the mail to @JoshGottheimer, @ScottWallacePA, @GinaOrtizJones,\\u2026 https://t.co/5IH6qRFa4X'),\n",
       " Status(ID=1005181938834071552, ScreenName=ericgarcetti, Created=Fri Jun 08 20:17:04 +0000 2018, Text=u\"Before I'm a mayor, I'm a father, and Trump's policy of separating families and incarcerating children is cruelty a\\u2026 https://t.co/U6pkTEAgUS\"),\n",
       " Status(ID=1004936365996478464, ScreenName=ericgarcetti, Created=Fri Jun 08 04:01:15 +0000 2018, Text=u'.@AP just called it for @MikeLevinCA. Congrats and let\\u2019s flip #CA49 in November! https://t.co/CchKtxiiqi'),\n",
       " Status(ID=1004513933129023488, ScreenName=ericgarcetti, Created=Thu Jun 07 00:02:39 +0000 2018, Text=u'Big congrats to all of the organizers, volunteers, and voters who helped pass @Yes68CA #YesOn68. \\n\\nCalifornia is a\\u2026 https://t.co/15NZ8RUzVV'),\n",
       " Status(ID=1004445361367285760, ScreenName=ericgarcetti, Created=Wed Jun 06 19:30:10 +0000 2018, Text=u'Congrats @XavierBecerra! Proud to support your bold and smart work to protect all Americans from Donald Trump and t\\u2026 https://t.co/kR0JjOVN2b'),\n",
       " Status(ID=1004445134468108289, ScreenName=ericgarcetti, Created=Wed Jun 06 19:29:16 +0000 2018, Text=u\"Congratulations @RicardoLara4CA. Let's pull out all the stops to help him protect consumers and expand healthcare. https://t.co/OMCndw28XO\"),\n",
       " Status(ID=1004428800858492928, ScreenName=ericgarcetti, Created=Wed Jun 06 18:24:22 +0000 2018, Text=u\".@Deb4CongressNM's win in last night's #NM01 primary puts her in great position to become the first Native American\\u2026 https://t.co/6gAOQ7plwH\"),\n",
       " Status(ID=1004426111382638593, ScreenName=ericgarcetti, Created=Wed Jun 06 18:13:40 +0000 2018, Text=u\"We're close to flipping so many districts in NJ. The #BlueWave is being driven by @JoshGottheimer in #NJ05,\\u2026 https://t.co/qVRPbAsCL3\"),\n",
       " Status(ID=1004425877487259650, ScreenName=ericgarcetti, Created=Wed Jun 06 18:12:45 +0000 2018, Text=u'Big wins in Iowa! Congrats to @Abby4Iowa and @DaveForIowa on winning Dem nominations in #IA01 and #IA02. \\n\\nThe Demo\\u2026 https://t.co/sMWcnJgSxa'),\n",
       " Status(ID=1004421448021266433, ScreenName=ericgarcetti, Created=Wed Jun 06 17:55:09 +0000 2018, Text=u'Congrats to all of last night\\u2019s Democratic winners, especially in #CA\\u2019s top swing districts: @Morse4America in\\u2026 https://t.co/LOdXH1ItQ1'),\n",
       " Status(ID=1004224441453301762, ScreenName=ericgarcetti, Created=Wed Jun 06 04:52:19 +0000 2018, Text=u'Let\\u2019s drop the Lieutenant and make him Governor in November! Mayor @GavinNewsom has my vote, voice, and full suppor\\u2026 https://t.co/VQTxuc4gWz'),\n",
       " Status(ID=1004212145154936832, ScreenName=ericgarcetti, Created=Wed Jun 06 04:03:27 +0000 2018, Text=u'Congratulations to @DianneFeinstein. Onwards to November! https://t.co/qPFeZkS978'),\n",
       " Status(ID=1004150947185119232, ScreenName=ericgarcetti, Created=Wed Jun 06 00:00:16 +0000 2018, Text=u'If you\\u2019re just getting out of work and haven\\u2019t voted yet, now is the time to go. If you\\u2019ve voted, remind a friend o\\u2026 https://t.co/7EnQi4BP3I'),\n",
       " Status(ID=1004092530290552832, ScreenName=ericgarcetti, Created=Tue Jun 05 20:08:09 +0000 2018, Text=u'RT @JeffreyPrang: Find your polling place at https://t.co/RbktErx0hA https://t.co/BaFULPiidC'),\n",
       " Status(ID=1004070682324553728, ScreenName=ericgarcetti, Created=Tue Jun 05 18:41:20 +0000 2018, Text=u'RT @XavierBecerra: Friends: the polls are open! Please be sure to cast your ballot today. I hope to have earned your support! https://t.co/\\u2026'),\n",
       " Status(ID=1004056656681062403, ScreenName=ericgarcetti, Created=Tue Jun 05 17:45:36 +0000 2018, Text=u'RT @DianneFeinstein: #PrimaryTuesday Make sure to go vote. Polls are now open. Find your polling location here: https://t.co/kpZAbvSGbT'),\n",
       " Status(ID=1004054839054090240, ScreenName=ericgarcetti, Created=Tue Jun 05 17:38:22 +0000 2018, Text=u'I just cast my vote in California\\u2019s primary election! If we show up in big numbers, this one is going to be a great\\u2026 https://t.co/mcDAZ1SdMp'),\n",
       " Status(ID=1004001164898263040, ScreenName=ericgarcetti, Created=Tue Jun 05 14:05:05 +0000 2018, Text=u'California, our polls are open from 7 AM to 8 PM. If you haven\\u2019t already, find your polling place and make a plan t\\u2026 https://t.co/8qZhHzKcvw'),\n",
       " Status(ID=1004000027319169026, ScreenName=ericgarcetti, Created=Tue Jun 05 14:00:34 +0000 2018, Text=u'It\\u2019s Election Day in Alabama, Iowa, New Mexico, South Dakota, and right here in California, where seven House seats\\u2026 https://t.co/DmniMEnHXu'),\n",
       " Status(ID=1003696850711515136, ScreenName=ericgarcetti, Created=Mon Jun 04 17:55:51 +0000 2018, Text=u'\"New Jersey\\u2019s 5th Congressional District is a rare opportunity for Republicans to knock off a Democratic incumbent.\\u2026 https://t.co/lrd685RY72'),\n",
       " Status(ID=1003477346563870722, ScreenName=ericgarcetti, Created=Mon Jun 04 03:23:37 +0000 2018, Text=u'Join me in voting for @DianneFeinstein -- a progressive leader who fights for our values, protects our health care,\\u2026 https://t.co/i6O51vt6gW'),\n",
       " Status(ID=1003444014446673921, ScreenName=ericgarcetti, Created=Mon Jun 04 01:11:10 +0000 2018, Text=u'Making calls at @WestsideDemHQ to make sure we flip #CA48. I am so proud to be working with these tireless Democrat\\u2026 https://t.co/VBKruoqO1O'),\n",
       " Status(ID=1003441228740997122, ScreenName=ericgarcetti, Created=Mon Jun 04 01:00:06 +0000 2018, Text=u'Washington isn\\u2019t going to invest in our water infrastructure, so we\\u2019re going to do it ourselves. High fives for\\u2026 https://t.co/nMjgutpWNZ'),\n",
       " Status(ID=1002625927531106304, ScreenName=ericgarcetti, Created=Fri Jun 01 19:00:23 +0000 2018, Text=u'When I travel across the country, it\\u2019s clear that we face common challenges and have common aspirations -- and we\\u2019r\\u2026 https://t.co/P4wj7YSjjZ'),\n",
       " Status(ID=1002596838791315456, ScreenName=ericgarcetti, Created=Fri Jun 01 17:04:48 +0000 2018, Text=u\"I've said it before, and I'll say it again: The path to a Democratic majority in Congress runs straight through Cal\\u2026 https://t.co/CxT5HUJwIj\"),\n",
       " Status(ID=1002342453133873152, ScreenName=ericgarcetti, Created=Fri Jun 01 00:13:58 +0000 2018, Text=u\"It's a good start, but we must demand more from Sacramento, Washington, and ourselves to accelerate this momentum. https://t.co/2dWBIhvygu\"),\n",
       " Status(ID=1002342395093159936, ScreenName=ericgarcetti, Created=Fri Jun 01 00:13:44 +0000 2018, Text=u'Thanks to an unprecedented partnership between LA County and the City of LA, and the voters who passed #MeasureH an\\u2026 https://t.co/j0wlQ7xHri'),\n",
       " Status(ID=1002262815007301632, ScreenName=ericgarcetti, Created=Thu May 31 18:57:30 +0000 2018, Text=u'I\\u2019m proud to join @CA_Dem, @RepJudyChu, @GraceNapolitano, and local firefighters in support of Mike Eng for State S\\u2026 https://t.co/5mpuoL8tcw'),\n",
       " Status(ID=1002240883759243264, ScreenName=ericgarcetti, Created=Thu May 31 17:30:22 +0000 2018, Text=u'With Washington so broken, Democratic victories in states are more important than ever -- and @GinaRaimondo is gett\\u2026 https://t.co/jqArJNLDQk'),\n",
       " Status(ID=1001879322829799425, ScreenName=ericgarcetti, Created=Wed May 30 17:33:39 +0000 2018, Text=u'I feel you @realdonaldtrump I once was asked a tough question by @abc7adrienne at @ABC7 during Ask the Mayor and\\u2026 https://t.co/nE4vdrtChe'),\n",
       " Status(ID=1001878439710818304, ScreenName=ericgarcetti, Created=Wed May 30 17:30:08 +0000 2018, Text=u'One of only two female @DemGovs in the U.S., @GinaRaimondo is the real deal. I\\u2019m proud to have known her since our\\u2026 https://t.co/p57TjbVVVc'),\n",
       " Status(ID=1001855957348093953, ScreenName=ericgarcetti, Created=Wed May 30 16:00:48 +0000 2018, Text=u'The Democratic Midterm Victory Fund\\u2019s mission is to elect Democrats who will flip the House and stop the GOP\\u2019s agen\\u2026 https://t.co/X3cW2E62yr'),\n",
       " Status(ID=1001668928656039939, ScreenName=ericgarcetti, Created=Wed May 30 03:37:37 +0000 2018, Text=u'They told us 64 people were killed by #HurricaneMaria. The true figure may be 70 times higher -- more than 4,600 de\\u2026 https://t.co/TuPC403goQ'),\n",
       " Status(ID=1001593859921596416, ScreenName=ericgarcetti, Created=Tue May 29 22:39:19 +0000 2018, Text=u\"Help my friend @StaceyAbrams make history! She's building a powerful grassroots movement for her campaign for Georg\\u2026 https://t.co/icIkAOonZq\"),\n",
       " Status(ID=1001131082425798656, ScreenName=ericgarcetti, Created=Mon May 28 16:00:24 +0000 2018, Text=u\"Our men and women in uniform don't fight for Democrats or Republicans, for the coast or for the heartland. They fig\\u2026 https://t.co/8zPqpNtxbO\"),\n",
       " Status(ID=1000896954967248898, ScreenName=ericgarcetti, Created=Mon May 28 00:30:04 +0000 2018, Text=u'Flipping the House and Senate will take each and every one of us turning out to vote, and now is the time to make s\\u2026 https://t.co/hFhGakcYRC'),\n",
       " Status(ID=1000169194464382977, ScreenName=ericgarcetti, Created=Sat May 26 00:18:12 +0000 2018, Text=u'RT @davidfholt: For the last two days, we\\u2019ve hosted two great urban thinkers in OKC.   @rickjacobs (w/ @ericgarcetti &amp; @USAccelerate) as we\\u2026'),\n",
       " Status(ID=1000052654050086912, ScreenName=ericgarcetti, Created=Fri May 25 16:35:07 +0000 2018, Text=u\"Hey @Albertsons, don't change a thing about our @ThriftyIceCream! https://t.co/fsUpZfFdEP\"),\n",
       " Status(ID=1000021195495034880, ScreenName=ericgarcetti, Created=Fri May 25 14:30:07 +0000 2018, Text=u'Our country\\u2019s vastness and diversity is a marvel -- but as Americans, we share so much in common, too. https://t.co/EhSvVyaQA3'),\n",
       " Status(ID=999762568397942785, ScreenName=ericgarcetti, Created=Thu May 24 21:22:25 +0000 2018, Text=u'\\U0001f911 https://t.co/iIScEIQoZx'),\n",
       " Status(ID=999681746764488704, ScreenName=ericgarcetti, Created=Thu May 24 16:01:16 +0000 2018, Text=u'#tbt to 5 years ago, when you first placed your trust in me and elected me mayor of my hometown. Thanks, LA. It rem\\u2026 https://t.co/ftSJEiiKMN'),\n",
       " Status(ID=999351241204477952, ScreenName=ericgarcetti, Created=Wed May 23 18:07:57 +0000 2018, Text=u\"Congrats to my friend and colleague @LouisvilleMayor Greg Fischer on winning yesterday's primary election with 75% of the vote!\"),\n",
       " Status(ID=999311508025815040, ScreenName=ericgarcetti, Created=Wed May 23 15:30:04 +0000 2018, Text=u'I agree with House Minority Whip @StenyHoyer. It\\u2019s not enough for Democrats to attack Donald Trump. To win, we have\\u2026 https://t.co/gIAJozfBaS'),\n",
       " Status(ID=999108185737674752, ScreenName=ericgarcetti, Created=Wed May 23 02:02:08 +0000 2018, Text=u'Congrats to all the Democratic women who won tonight, especially @StaceyAbrams and @AmyMcGrathKY. The #BlueWave2018\\u2026 https://t.co/v6cKeYg9bj'),\n",
       " Status(ID=998934063099580417, ScreenName=ericgarcetti, Created=Tue May 22 14:30:14 +0000 2018, Text=u'I proudly support my friend @StaceyAbrams for Georgia Governor. The grassroots energy and vision behind her campaig\\u2026 https://t.co/vVrhZXZq5Z'),\n",
       " Status(ID=998621818817777665, ScreenName=ericgarcetti, Created=Mon May 21 17:49:29 +0000 2018, Text=u'Proud to support #YesOn68, crucial for our health and environment here in LA and all of CA.\\nhttps://t.co/xeywgOk49c'),\n",
       " Status(ID=998586772409012224, ScreenName=ericgarcetti, Created=Mon May 21 15:30:14 +0000 2018, Text=u'Trump\\u2019s trade war puts us at risk in Southern California, too. Don\\u2019t let them divide us into coastal vs. heartland,\\u2026 https://t.co/9lEGYerIs9'),\n",
       " Status(ID=998360239954190336, ScreenName=ericgarcetti, Created=Mon May 21 00:30:04 +0000 2018, Text=u'California, you have through Monday, May 21 to register to vote in the June 5 primary. If you plan to vote by mail,\\u2026 https://t.co/eDuPokI4Dv'),\n",
       " Status(ID=997540613951246337, ScreenName=ericgarcetti, Created=Fri May 18 18:13:10 +0000 2018, Text=u'This status quo is unacceptable. We must elect leaders who will deliver change. #Enough'),\n",
       " Status(ID=997540507319525376, ScreenName=ericgarcetti, Created=Fri May 18 18:12:45 +0000 2018, Text=u\"My thoughts are with the victims of this morning's horrific mass shooting at Santa Fe High School. But thoughts are\\u2026 https://t.co/yNISZRyaTA\"),\n",
       " Status(ID=997205506493222913, ScreenName=ericgarcetti, Created=Thu May 17 20:01:34 +0000 2018, Text=u\"Jeff Prang has not only reformed the Assessor's Office, he has championed technological innovation and public servi\\u2026 https://t.co/YnGrNdAolF\"),\n",
       " Status(ID=997144983261138944, ScreenName=ericgarcetti, Created=Thu May 17 16:01:04 +0000 2018, Text=u'It takes a comprehensive strategy to truly solve chronic homelessness, and now we have one to go all the way. https://t.co/mr8bXK6bKV'),\n",
       " Status(ID=996913780251680773, ScreenName=ericgarcetti, Created=Thu May 17 00:42:21 +0000 2018, Text=u\"Winning in states like SC -- that's how we take back our country. https://t.co/e2w6lo0cyE\"),\n",
       " Status(ID=996842289883426816, ScreenName=ericgarcetti, Created=Wed May 16 19:58:16 +0000 2018, Text=u\"Congrats to @GiveEmHelenTai on flipping a red seat to blue with her big win in last night's special election! Her w\\u2026 https://t.co/ahQ0CBNL5N\"),\n",
       " Status(ID=996352006578155520, ScreenName=ericgarcetti, Created=Tue May 15 11:30:04 +0000 2018, Text=u'Pennsylvania has two state legislative special elections that couldn\\u2019t be more critical. @GiveEmHelenTai and Clark\\u2026 https://t.co/B1jUTN98BI'),\n",
       " Status(ID=996178105977929729, ScreenName=ericgarcetti, Created=Mon May 14 23:59:03 +0000 2018, Text=u\"@SNHU My wish for this year's graduates is that you continue to challenge borders and continue to do great things.\\u2026 https://t.co/1XYTY0uDcP\"),\n",
       " Status(ID=996177897693073408, ScreenName=ericgarcetti, Created=Mon May 14 23:58:13 +0000 2018, Text=u\"@SNHU By crossing borders in our daily lives, by hearing others' stories, we can find common ground and celebrate our collective humanity.\"),\n",
       " Status(ID=996177651021860864, ScreenName=ericgarcetti, Created=Mon May 14 23:57:14 +0000 2018, Text=u\"It was an honor to be this year's commencement speaker at @SNHU, one of the largest, fastest growing universities in the nation.\"),\n",
       " Status(ID=995831092182704128, ScreenName=ericgarcetti, Created=Mon May 14 01:00:08 +0000 2018, Text=u'If you ever had any question about how important it is to also flip state legislatures during these midterm electio\\u2026 https://t.co/LdPkZGeTHU'),\n",
       " Status(ID=995776086368833538, ScreenName=ericgarcetti, Created=Sun May 13 21:21:34 +0000 2018, Text=u'#MCGA \\U0001f1e8\\U0001f1f3 https://t.co/Nm8IzxNQ8m'),\n",
       " Status(ID=995010396653211648, ScreenName=ericgarcetti, Created=Fri May 11 18:38:59 +0000 2018, Text=u'\\U0001f33c https://t.co/cIA6oer7tF'),\n",
       " Status(ID=994376237085675520, ScreenName=ericgarcetti, Created=Thu May 10 00:39:04 +0000 2018, Text=u'RT @MayorOfLA: Great to see you again, Mr. President! @BarackObama, we miss you \\u2014 thanks for spending some time in L.A. https://t.co/bqbH7f\\u2026'),\n",
       " Status(ID=993902130846224384, ScreenName=ericgarcetti, Created=Tue May 08 17:15:08 +0000 2018, Text=u'This November, when the GOP says they\\'re \"pro-family,\" remember this: https://t.co/5td18ty8c2'),\n",
       " Status(ID=993635093817315328, ScreenName=ericgarcetti, Created=Mon May 07 23:34:01 +0000 2018, Text=u'Hey California: Get out and vote today! Early voting has begun, and if you need to know where to go here in\\u2026 https://t.co/FhPqsETSXU'),\n",
       " Status(ID=993599101907492864, ScreenName=ericgarcetti, Created=Mon May 07 21:11:00 +0000 2018, Text=u'Painting our city streets with CoolSeal will reflect solar rays off asphalt, ensuring less heat is absorbed &amp; makin\\u2026 https://t.co/zJWOZ9b3Vr'),\n",
       " Status(ID=992843623388631041, ScreenName=ericgarcetti, Created=Sat May 05 19:09:00 +0000 2018, Text=u'Let young Americans lead. A wave is coming this November. \\U0001f30a\\n\\nhttps://t.co/xBt1aiG4vB'),\n",
       " Status(ID=992546110878007298, ScreenName=ericgarcetti, Created=Fri May 04 23:26:48 +0000 2018, Text=u'Why is @realDonaldTrump at war with the fifth largest economy in the world? @JerryBrownGov https://t.co/8sC4DR0eeB'),\n",
       " Status(ID=992513454354370560, ScreenName=ericgarcetti, Created=Fri May 04 21:17:02 +0000 2018, Text=u\"Don't think anyone says it better than Luke Skywalker. #MayThe4thBeWithYou\\n\\nhttps://t.co/4OPj6P7ie4\"),\n",
       " Status(ID=992139484035735557, ScreenName=ericgarcetti, Created=Thu May 03 20:31:00 +0000 2018, Text=u'Los Angeles isn\\u2019t just a global melting pot, it\\u2019s the third-largest metropolitan economy in the world. It\\u2019s proof t\\u2026 https://t.co/WcppooKTJO'),\n",
       " Status(ID=991819626630627328, ScreenName=ericgarcetti, Created=Wed May 02 23:20:00 +0000 2018, Text=u\"Did the GOP's corporate tax cuts *actually* help Americans? Ask @marcorubio -- he seems to think they didn't. (He's\\u2026 https://t.co/hUzvc9NoW8\"),\n",
       " Status(ID=991427291816366080, ScreenName=ericgarcetti, Created=Tue May 01 21:21:00 +0000 2018, Text=u\"A Democratic wave in November isn't a sure thing, and the GOP knows it -- that's why they're making it so that\\u2026 https://t.co/d51Ev3fVTF\"),\n",
       " Status(ID=991066669052243969, ScreenName=ericgarcetti, Created=Mon Apr 30 21:28:01 +0000 2018, Text=u\"In 2018, we\\u2019re going to prove it\\u2019s not about the heartland vs. the coast or red vs. blue. It's Washington, D.C. vs.\\u2026 https://t.co/U3t6ALIIaa\"),\n",
       " Status(ID=990656713505300480, ScreenName=ericgarcetti, Created=Sun Apr 29 18:19:00 +0000 2018, Text=u\"86% of Americans support #netneutrality -- and that's why we're fighting for it here at home when the politicians i\\u2026 https://t.co/eSIJowOBoi\"),\n",
       " Status(ID=989959622445461504, ScreenName=ericgarcetti, Created=Fri Apr 27 20:09:01 +0000 2018, Text=u'James Shaw is why America is already great: He calls himself a \"regular person,\" but he\\'s an American hero -- one o\\u2026 https://t.co/lbOkqWH776'),\n",
       " Status(ID=989890268332806145, ScreenName=ericgarcetti, Created=Fri Apr 27 15:33:25 +0000 2018, Text=u'@washingtonpost @scoopnest'),\n",
       " Status(ID=989561845802385408, ScreenName=ericgarcetti, Created=Thu Apr 26 17:48:23 +0000 2018, Text=u'Thanks to @RAYGUNshirts for helping me find the perfect gift for my wife with Midwest roots! https://t.co/BaUC98zkcR'),\n",
       " Status(ID=989561844808339456, ScreenName=ericgarcetti, Created=Thu Apr 26 17:48:23 +0000 2018, Text=u'\\u201cWhat the country is seeing is they need leaders, and they\\u2019re looking for where the leaders are, and you can find a\\u2026 https://t.co/moFupmgXiH'),\n",
       " Status(ID=989210685497278464, ScreenName=ericgarcetti, Created=Wed Apr 25 18:33:00 +0000 2018, Text=u'A third federal judge gave DACA recipients across the country, and right here in L.A., a new sense of hope. Judge B\\u2026 https://t.co/1wCudzLPZw'),\n",
       " Status(ID=989003286870085632, ScreenName=ericgarcetti, Created=Wed Apr 25 04:48:53 +0000 2018, Text=u'RT @JMilesColeman: In 2016, Clinton lost #AZ08 by 21%; tonight Hiral Tipirneni (D) is only losing by 6% to Debbie Lesko (R). Roughly 1/3 of\\u2026'),\n",
       " Status(ID=988820144095875072, ScreenName=ericgarcetti, Created=Tue Apr 24 16:41:08 +0000 2018, Text=u'Congratulations to @uclagymnastics on their incredible win! #champions https://t.co/qatsPl5dKF EG'),\n",
       " Status(ID=988507053558726659, ScreenName=ericgarcetti, Created=Mon Apr 23 19:57:01 +0000 2018, Text=u'This week, let\\u2019s commit to listening to scientists, not D.C. politicians. Let\\u2019s commit to action. That\\u2019s what we\\u2019re\\u2026 https://t.co/PSdmjNdhev'),\n",
       " Status(ID=987776233047035904, ScreenName=ericgarcetti, Created=Sat Apr 21 19:33:00 +0000 2018, Text=u'Only in D.C. would clean water for Americans be a partisan issue. Sign on now if you agree: Clean water is a basic\\u2026 https://t.co/E0rw5TFurg'),\n",
       " Status(ID=987439819872595971, ScreenName=ericgarcetti, Created=Fri Apr 20 21:16:13 +0000 2018, Text=u'Today, teenagers from Parkland, FL and across the country are taking the lead -- let\\u2019s hope we don\\u2019t mark 20 years\\u2026 https://t.co/XAgBQ2jnvc'),\n",
       " Status(ID=987439818928865280, ScreenName=ericgarcetti, Created=Fri Apr 20 21:16:13 +0000 2018, Text=u'If you were born on the day of the horrific Columbine massacre, you are now 19. And for your entire life, adults ha\\u2026 https://t.co/QZSgSl30y0'),\n",
       " Status(ID=987028322214277120, ScreenName=ericgarcetti, Created=Thu Apr 19 18:01:04 +0000 2018, Text=u'@Rachel_Reyes @KNX1070 2/2 double the number of children who learn to swim (on the dime of the Olympics)--it is the\\u2026 https://t.co/QRyGdMZX7X'),\n",
       " Status(ID=987028046338125824, ScreenName=ericgarcetti, Created=Thu Apr 19 17:59:58 +0000 2018, Text=u'@Rachel_Reyes @KNX1070 1/2 Hey Rachel--I go to DC &amp; Sacramento because I want LA to get its fair share of dollars--\\u2026 https://t.co/EZPdewrOMw'),\n",
       " Status(ID=987024363340771328, ScreenName=ericgarcetti, Created=Thu Apr 19 17:45:20 +0000 2018, Text=u'@LifeIsFunnyLA Absolutely.  And the budget increases are for those programs exactly--we expand homeless housing spe\\u2026 https://t.co/iwPfLeetDE'),\n",
       " Status(ID=987021278295949312, ScreenName=ericgarcetti, Created=Thu Apr 19 17:33:05 +0000 2018, Text=u'@shmuelraigs @KNX1070 We are doing hundreds of consultations a month for customers and successfully getting fees re\\u2026 https://t.co/kabp3p9z7S'),\n",
       " Status(ID=986408362991468545, ScreenName=ericgarcetti, Created=Wed Apr 18 00:57:34 +0000 2018, Text=u\"Barbara Bush's decency, strength, tenacity and dedication to country and family set the standard for us all. Our th\\u2026 https://t.co/SwrD0CEPcm\"),\n",
       " Status(ID=985925542309449728, ScreenName=ericgarcetti, Created=Mon Apr 16 16:59:01 +0000 2018, Text=u'Welcome aboard, @HawthorneCDOLA! Christopher is a former @latimes architecture critic and now our first Chief Desig\\u2026 https://t.co/LnssRtfQF6'),\n",
       " Status(ID=985331585649065984, ScreenName=ericgarcetti, Created=Sun Apr 15 01:38:51 +0000 2018, Text=u'My wife, Amy, has lots of family that hailed from Waterloo, Iowa. Her grandparents lived in this house when they we\\u2026 https://t.co/SLkKoE297k'),\n",
       " Status(ID=985295713008435206, ScreenName=ericgarcetti, Created=Sat Apr 14 23:16:18 +0000 2018, Text=u'Thanks Waterloo Mayor @QuentinHart for welcoming me to your city, where you are helping to modernize factories and\\u2026 https://t.co/GA5D3VHNo3'),\n",
       " Status(ID=985275649081290753, ScreenName=ericgarcetti, Created=Sat Apr 14 21:56:34 +0000 2018, Text=u\"The @polkdems at Cooney's know that the Midterms are our turn! The Polk County Dems are pushing the #bigbluewave fo\\u2026 https://t.co/8XXmxFqNUO\"),\n",
       " Status(ID=985265197337030656, ScreenName=ericgarcetti, Created=Sat Apr 14 21:15:03 +0000 2018, Text=u'Breakfast at Mullets with Des Moines #firefighters. In Iowa, LA and everywhere, let\\u2019s value them as much as they va\\u2026 https://t.co/WTOig3juIV'),\n",
       " Status(ID=984879502688956416, ScreenName=ericgarcetti, Created=Fri Apr 13 19:42:26 +0000 2018, Text=u'I am so excited to visit the International Carpenters Union\\u2019s brand new training center with 4,500 members in Iowa!\\u2026 https://t.co/ODZxTVmhAA'),\n",
       " Status(ID=984521285316247554, ScreenName=ericgarcetti, Created=Thu Apr 12 19:59:00 +0000 2018, Text=u'There\\u2019s a blue wave rippling through Southern California\\u2019s conservative strongholds -- and it\\u2019s only getting strong\\u2026 https://t.co/8TUxs3lmi0'),\n",
       " Status(ID=984123920025612291, ScreenName=ericgarcetti, Created=Wed Apr 11 17:40:01 +0000 2018, Text=u\"Isn't the captain supposed to go down with the ship? @PRyan must be seeing a huge #BlueWave coming. And now\\u2026 https://t.co/pi8ZfBRq5y\"),\n",
       " Status(ID=984089739677462528, ScreenName=ericgarcetti, Created=Wed Apr 11 15:24:12 +0000 2018, Text=u'Congrats to my longtime friend @RobertGarciaLB for his re-election as Long Beach Mayor. From our work upholding the\\u2026 https://t.co/vCkXulhoq6'),\n",
       " Status(ID=983777894345465856, ScreenName=ericgarcetti, Created=Tue Apr 10 18:45:02 +0000 2018, Text=u'So many parts of the country -- like the Philadelphia suburbs in Delaware County -- are being swept by Democratic m\\u2026 https://t.co/w6L4tSnbC7'),\n",
       " Status(ID=983065699601014785, ScreenName=ericgarcetti, Created=Sun Apr 08 19:35:01 +0000 2018, Text=u\"It's time: Let's elect folks who actually represent their constituents. https://t.co/uh1QFwNFPv\"),\n",
       " Status(ID=983064467910078464, ScreenName=ericgarcetti, Created=Sun Apr 08 19:30:08 +0000 2018, Text=u'Another one bites the dust: Last week, Rep. Ryan Costello (R - PA) announced he won\\u2019t seek re-election, joining ove\\u2026 https://t.co/Un9kWSP5Xp'),\n",
       " Status(ID=982301160240570368, ScreenName=ericgarcetti, Created=Fri Apr 06 16:57:01 +0000 2018, Text=u'Our teachers lead. Thanks to the educators in Oklahoma and Kentucky for demanding better for themselves and their s\\u2026 https://t.co/CY1TLqfeMz'),\n",
       " Status(ID=981634515968888832, ScreenName=ericgarcetti, Created=Wed Apr 04 20:48:01 +0000 2018, Text=u'50 years ago, MLK gave what would become his last speech. He was in Memphis to encourage striking sanitation worker\\u2026 https://t.co/gYQWt576OC'),\n",
       " Status(ID=981586449064779778, ScreenName=ericgarcetti, Created=Wed Apr 04 17:37:01 +0000 2018, Text=u'Remembering Dr King. These photos capture an incredible time.\\n\\nhttps://t.co/b6SpEN4CmI  #MLK50'),\n",
       " Status(ID=981393712713469952, ScreenName=ericgarcetti, Created=Wed Apr 04 04:51:09 +0000 2018, Text=u'Congratulations to @sydneykamlager for her victory in AD-54! Sydney is a friend and true servant of the people who\\u2026 https://t.co/HVA2NywB5d'),\n",
       " Status(ID=981293317517381632, ScreenName=ericgarcetti, Created=Tue Apr 03 22:12:13 +0000 2018, Text=u'The Constitution and our communities deserve better than Donald Trump\\u2019s attempt to intimidate immigrants. We are a\\u2026 https://t.co/PN1xshZL2e')]"
      ]
     },
     "execution_count": 5,
     "metadata": {},
     "output_type": "execute_result"
    }
   ],
   "source": [
    "statuses"
   ]
  },
  {
   "cell_type": "code",
   "execution_count": 6,
   "metadata": {},
   "outputs": [
    {
     "data": {
      "text/plain": [
       "200"
      ]
     },
     "execution_count": 6,
     "metadata": {},
     "output_type": "execute_result"
    }
   ],
   "source": [
    "len(statuses)"
   ]
  },
  {
   "cell_type": "code",
   "execution_count": 7,
   "metadata": {},
   "outputs": [
    {
     "data": {
      "text/plain": [
       "Status(ID=1025051675969519616, ScreenName=ericgarcetti, Created=Thu Aug 02 16:12:18 +0000 2018, Text=u'RT @MayorOfLA: L.A. will not watch idly while the president tries to return us to a time when the smog was so thick we could not go outside\\u2026')"
      ]
     },
     "execution_count": 7,
     "metadata": {},
     "output_type": "execute_result"
    }
   ],
   "source": [
    "statuses[0]"
   ]
  },
  {
   "cell_type": "code",
   "execution_count": 8,
   "metadata": {},
   "outputs": [
    {
     "data": {
      "text/plain": [
       "Status(ID=981293317517381632, ScreenName=ericgarcetti, Created=Tue Apr 03 22:12:13 +0000 2018, Text=u'The Constitution and our communities deserve better than Donald Trump\\u2019s attempt to intimidate immigrants. We are a\\u2026 https://t.co/PN1xshZL2e')"
      ]
     },
     "execution_count": 8,
     "metadata": {},
     "output_type": "execute_result"
    }
   ],
   "source": [
    "statuses[-1]"
   ]
  },
  {
   "cell_type": "code",
   "execution_count": 9,
   "metadata": {},
   "outputs": [
    {
     "data": {
      "text/plain": [
       "twitter.models.Status"
      ]
     },
     "execution_count": 9,
     "metadata": {},
     "output_type": "execute_result"
    }
   ],
   "source": [
    "type(statuses[0])"
   ]
  },
  {
   "cell_type": "markdown",
   "metadata": {},
   "source": [
    "![AsDict](resources/AsDict.png)"
   ]
  },
  {
   "cell_type": "code",
   "execution_count": 10,
   "metadata": {},
   "outputs": [
    {
     "data": {
      "text/plain": [
       "{u'created_at': u'Thu Aug 02 16:12:18 +0000 2018',\n",
       " u'hashtags': [],\n",
       " u'id': 1025051675969519616,\n",
       " u'id_str': u'1025051675969519616',\n",
       " u'lang': u'en',\n",
       " u'retweet_count': 72,\n",
       " u'retweeted_status': {u'created_at': u'Thu Aug 02 15:48:32 +0000 2018',\n",
       "  u'favorite_count': 175,\n",
       "  u'hashtags': [],\n",
       "  u'id': 1025045693059059714,\n",
       "  u'id_str': u'1025045693059059714',\n",
       "  u'lang': u'en',\n",
       "  u'retweet_count': 72,\n",
       "  u'source': u'<a href=\"http://twitter.com\" rel=\"nofollow\">Twitter Web Client</a>',\n",
       "  u'text': u'L.A. will not watch idly while the president tries to return us to a time when the smog was so thick we could not g\\u2026 https://t.co/EMKNeqCgEE',\n",
       "  u'truncated': True,\n",
       "  u'urls': [{u'expanded_url': u'https://twitter.com/i/web/status/1025045693059059714',\n",
       "    u'url': u'https://t.co/EMKNeqCgEE'}],\n",
       "  u'user': {u'created_at': u'Thu Oct 30 17:52:09 +0000 2008',\n",
       "   u'description': u'Official account for the 42nd Mayor of the City of Angels, Eric Garcetti. \\U0001f4f8https://t.co/A9TS3pdoPV \\U0001f44dhttps://t.co/IuxRMfYAY3',\n",
       "   u'favourites_count': 8391,\n",
       "   u'followers_count': 286308,\n",
       "   u'friends_count': 433,\n",
       "   u'geo_enabled': True,\n",
       "   u'id': 17070113,\n",
       "   u'lang': u'en',\n",
       "   u'listed_count': 2937,\n",
       "   u'location': u'Los Angeles, CA',\n",
       "   u'name': u'Mayor Eric Garcetti',\n",
       "   u'profile_background_color': u'0F3073',\n",
       "   u'profile_background_image_url': u'http://abs.twimg.com/images/themes/theme1/bg.png',\n",
       "   u'profile_banner_url': u'https://pbs.twimg.com/profile_banners/17070113/1532137436',\n",
       "   u'profile_image_url': u'http://pbs.twimg.com/profile_images/880655957013008385/zHDMvGJi_normal.jpg',\n",
       "   u'profile_link_color': u'1B95E0',\n",
       "   u'profile_sidebar_fill_color': u'DDEEF6',\n",
       "   u'profile_text_color': u'333333',\n",
       "   u'screen_name': u'MayorOfLA',\n",
       "   u'statuses_count': 16729,\n",
       "   u'url': u'https://t.co/Vqx2MpQKGv',\n",
       "   u'verified': True},\n",
       "  u'user_mentions': []},\n",
       " u'source': u'<a href=\"http://twitter.com/download/iphone\" rel=\"nofollow\">Twitter for iPhone</a>',\n",
       " u'text': u'RT @MayorOfLA: L.A. will not watch idly while the president tries to return us to a time when the smog was so thick we could not go outside\\u2026',\n",
       " u'urls': [],\n",
       " u'user': {u'created_at': u'Thu Nov 13 05:36:42 +0000 2008',\n",
       "  u'description': u'Angeleno. Public Servant. Mayor. Not paid for, sponsored by, or hosted by city of L.A. Tweets from Mayor Garcetti signed EG.',\n",
       "  u'favourites_count': 694,\n",
       "  u'followers_count': 287649,\n",
       "  u'friends_count': 1944,\n",
       "  u'geo_enabled': True,\n",
       "  u'id': 17358750,\n",
       "  u'lang': u'en',\n",
       "  u'listed_count': 1543,\n",
       "  u'location': u'Los Angeles',\n",
       "  u'name': u'Eric Garcetti',\n",
       "  u'profile_background_color': u'000000',\n",
       "  u'profile_background_image_url': u'http://abs.twimg.com/images/themes/theme1/bg.png',\n",
       "  u'profile_banner_url': u'https://pbs.twimg.com/profile_banners/17358750/1483457329',\n",
       "  u'profile_image_url': u'http://pbs.twimg.com/profile_images/1016384067825102848/STJrpp1S_normal.jpg',\n",
       "  u'profile_link_color': u'45AFE3',\n",
       "  u'profile_sidebar_fill_color': u'000000',\n",
       "  u'profile_text_color': u'000000',\n",
       "  u'screen_name': u'ericgarcetti',\n",
       "  u'statuses_count': 5489,\n",
       "  u'url': u'https://t.co/CTubID0lRp',\n",
       "  u'verified': True},\n",
       " u'user_mentions': [{u'id': 17070113,\n",
       "   u'name': u'Mayor Eric Garcetti',\n",
       "   u'screen_name': u'MayorOfLA'}]}"
      ]
     },
     "execution_count": 10,
     "metadata": {},
     "output_type": "execute_result"
    }
   ],
   "source": [
    "statuses[0].AsDict()"
   ]
  },
  {
   "cell_type": "markdown",
   "metadata": {},
   "source": [
    "### Store Data Into CSV"
   ]
  },
  {
   "cell_type": "code",
   "execution_count": 11,
   "metadata": {
    "collapsed": true
   },
   "outputs": [],
   "source": [
    "csv_list = []"
   ]
  },
  {
   "cell_type": "code",
   "execution_count": 12,
   "metadata": {
    "collapsed": true
   },
   "outputs": [],
   "source": [
    "for status in statuses:\n",
    "    status_dict = status.AsDict()\n",
    "    created_at = status_dict['created_at']\n",
    "    text = status_dict['text']\n",
    "    try:\n",
    "        favorite_count = status_dict['favorite_count']\n",
    "    except KeyError:\n",
    "        favorite_count = 0\n",
    "    try:\n",
    "        retweet_count = status_dict['retweet_count']\n",
    "    except KeyError:\n",
    "        retweet_count = 0\n",
    "    csv_list.append([created_at, text, favorite_count, retweet_count])"
   ]
  },
  {
   "cell_type": "code",
   "execution_count": 13,
   "metadata": {
    "collapsed": true
   },
   "outputs": [],
   "source": [
    "import pandas as pd"
   ]
  },
  {
   "cell_type": "code",
   "execution_count": 14,
   "metadata": {
    "collapsed": true
   },
   "outputs": [],
   "source": [
    "df = pd.DataFrame(csv_list, columns = [\"Date\", \"Text\", \"Favorite Count\", \"Retweet Count\"])"
   ]
  },
  {
   "cell_type": "code",
   "execution_count": 16,
   "metadata": {},
   "outputs": [],
   "source": [
    "df.to_excel(\"meg_tweets.xlsx\", index = False)"
   ]
  }
 ],
 "metadata": {
  "kernelspec": {
   "display_name": "Python 2",
   "language": "python",
   "name": "python2"
  },
  "language_info": {
   "codemirror_mode": {
    "name": "ipython",
    "version": 2
   },
   "file_extension": ".py",
   "mimetype": "text/x-python",
   "name": "python",
   "nbconvert_exporter": "python",
   "pygments_lexer": "ipython2",
   "version": "2.7.13"
  }
 },
 "nbformat": 4,
 "nbformat_minor": 2
}
