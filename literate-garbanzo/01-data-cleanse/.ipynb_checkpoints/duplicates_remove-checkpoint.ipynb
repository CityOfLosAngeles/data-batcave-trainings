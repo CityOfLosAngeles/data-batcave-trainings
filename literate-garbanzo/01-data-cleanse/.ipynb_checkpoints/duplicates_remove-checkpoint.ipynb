{
 "cells": [
  {
   "cell_type": "code",
   "execution_count": 1,
   "metadata": {},
   "outputs": [],
   "source": [
    "from __future__ import print_function\n",
    "from datetime import datetime\n",
    "import time\n",
    "import pandas as pd\n",
    "import csv\n",
    "from pathlib import Path"
   ]
  },
  {
   "cell_type": "code",
   "execution_count": 2,
   "metadata": {},
   "outputs": [
    {
     "name": "stdout",
     "output_type": "stream",
     "text": [
      "Start time: 2018-08-02 08:33:10.462371\n"
     ]
    }
   ],
   "source": [
    "print(\"Start time: \" + str(datetime.now()))\n",
    "timestr = time.strftime(\"%Y%m%d\")\n"
   ]
  },
  {
   "cell_type": "code",
   "execution_count": 3,
   "metadata": {},
   "outputs": [],
   "source": [
    "file_in ='Police_Department_Incidents_-_Current_Year__2018_.csv'\n",
    "df= pd.read_csv(file_in)"
   ]
  },
  {
   "cell_type": "code",
   "execution_count": 4,
   "metadata": {},
   "outputs": [
    {
     "name": "stdout",
     "output_type": "stream",
     "text": [
      "Duplicates found\n",
      "35559\n"
     ]
    }
   ],
   "source": [
    "# Check if duplicate file is found\n",
    "# before running to make clean file\n",
    "\n",
    "file_out_dupes = Path('SF_Police_Department_Incidents_dupes.csv')\n",
    "if file_out_dupes.is_file():\n",
    "    print(\"Duplicates found\")\n",
    "    file_out ='SF_Police_Department_Incidents_2018_clean.csv'\n",
    "    with open(file_in, 'r') as fin, open(file_out, 'w', newline='') as fout:\n",
    "        reader = csv.reader(fin)\n",
    "        writer = csv.writer(fout)\n",
    "        d = {}\n",
    "        for row in reader:\n",
    "            DR = row[0]\n",
    "            if DR not in d:\n",
    "                d[DR] = row\n",
    "                writer.writerow(row)\n",
    "            elif DR in d:\n",
    "                continue\n",
    "            else:\n",
    "                continue\n",
    "    result = d.values()\n",
    "    df= pd.read_csv(file_out)\n",
    "    \n",
    "    print(len(df))\n",
    "else:\n",
    "    print(\"No duplicates found\")\n",
    "    pass\n"
   ]
  },
  {
   "cell_type": "code",
   "execution_count": null,
   "metadata": {},
   "outputs": [],
   "source": []
  }
 ],
 "metadata": {
  "kernelspec": {
   "display_name": "Python 3",
   "language": "python",
   "name": "python3"
  },
  "language_info": {
   "codemirror_mode": {
    "name": "ipython",
    "version": 3
   },
   "file_extension": ".py",
   "mimetype": "text/x-python",
   "name": "python",
   "nbconvert_exporter": "python",
   "pygments_lexer": "ipython3",
   "version": "3.6.5"
  }
 },
 "nbformat": 4,
 "nbformat_minor": 2
}
