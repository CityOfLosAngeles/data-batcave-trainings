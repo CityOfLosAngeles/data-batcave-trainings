{
 "cells": [
  {
   "cell_type": "code",
   "execution_count": null,
   "metadata": {},
   "outputs": [],
   "source": [
    "# DESC:     Remove duplicate records from a CSV file\n",
    "# CAUTION:  Script is work in progess. No warranties of any\n",
    "#           kind are provided\n",
    "# AUTHOR:   Patty Jula\n",
    "# DATE:     2018"
   ]
  },
  {
   "cell_type": "code",
   "execution_count": 16,
   "metadata": {},
   "outputs": [],
   "source": [
    "# Run this script second"
   ]
  },
  {
   "cell_type": "code",
   "execution_count": 17,
   "metadata": {},
   "outputs": [],
   "source": [
    "from __future__ import print_function\n",
    "from datetime import datetime\n",
    "import time\n",
    "import pandas as pd\n",
    "import csv\n",
    "from pathlib import Path"
   ]
  },
  {
   "cell_type": "code",
   "execution_count": 18,
   "metadata": {},
   "outputs": [
    {
     "name": "stdout",
     "output_type": "stream",
     "text": [
      "Start time: 2018-08-08 11:12:25.339124\n"
     ]
    }
   ],
   "source": [
    "print(\"Start time: \" + str(datetime.now()))"
   ]
  },
  {
   "cell_type": "code",
   "execution_count": 21,
   "metadata": {},
   "outputs": [
    {
     "name": "stdout",
     "output_type": "stream",
     "text": [
      "46668\n"
     ]
    }
   ],
   "source": [
    "# Define files\n",
    "file_in ='Resources/SFPD_CrimeIncidents_2018.csv'\n",
    "file_out ='SF_Police_Department_Incidents_2018_clean.csv'\n",
    "\n",
    "df= pd.read_csv(file_in)\n",
    "df.head()\n"
   ]
  },
  {
   "cell_type": "code",
   "execution_count": 22,
   "metadata": {},
   "outputs": [
    {
     "name": "stdout",
     "output_type": "stream",
     "text": [
      "35559\n"
     ]
    }
   ],
   "source": [
    "# Check if duplicate file is found before running to make clean file\n",
    "file_out_dupes = Path('Resources/SF_Police_Department_Incidents_dupes.csv')\n",
    "if file_out_dupes.is_file():\n",
    "    #print(\"Duplicates found\")\n",
    "    # CSV module to specify input and out files\n",
    "    with open(file_in, 'r') as fin, open(file_out, 'w', newline='') as fout:\n",
    "        reader = csv.reader(fin)\n",
    "        writer = csv.writer(fout)\n",
    "        # Create an empty dictionary\n",
    "        d = {}\n",
    "        for row in reader:\n",
    "            # row[0] refers to IncidntNum\n",
    "            DR = row[0]\n",
    "            # write row if not found\n",
    "            if DR not in d:\n",
    "                d[DR] = row\n",
    "                writer.writerow(row)\n",
    "            elif DR in d:\n",
    "                continue\n",
    "            else:\n",
    "                continue\n",
    "    result = d.values()\n",
    "    df= pd.read_csv(file_out)\n",
    "\n",
    "    print(len(df))\n",
    "else:\n",
    "    pass\n"
   ]
  },
  {
   "cell_type": "code",
   "execution_count": null,
   "metadata": {},
   "outputs": [],
   "source": []
  },
  {
   "cell_type": "code",
   "execution_count": null,
   "metadata": {},
   "outputs": [],
   "source": []
  }
 ],
 "metadata": {
  "kernelspec": {
   "display_name": "Python 3",
   "language": "python",
   "name": "python3"
  },
  "language_info": {
   "codemirror_mode": {
    "name": "ipython",
    "version": 3
   },
   "file_extension": ".py",
   "mimetype": "text/x-python",
   "name": "python",
   "nbconvert_exporter": "python",
   "pygments_lexer": "ipython3",
   "version": "3.6.4"
  }
 },
 "nbformat": 4,
 "nbformat_minor": 2
}
