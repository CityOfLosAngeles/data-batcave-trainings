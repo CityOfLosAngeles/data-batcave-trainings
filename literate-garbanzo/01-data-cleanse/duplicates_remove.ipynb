{
 "cells": [
  {
   "cell_type": "code",
   "execution_count": 35,
   "metadata": {},
   "outputs": [],
   "source": [
    "# Run this script second\n",
    "# NOTE: This script is unsolved - some of the code has been removed\n",
    "# and is to be completed in demonstration"
   ]
  },
  {
   "cell_type": "code",
   "execution_count": 36,
   "metadata": {},
   "outputs": [],
   "source": [
    "from __future__ import print_function\n",
    "from datetime import datetime\n",
    "import time\n",
    "import pandas as pd\n",
    "import csv\n",
    "from pathlib import Path"
   ]
  },
  {
   "cell_type": "code",
   "execution_count": 37,
   "metadata": {},
   "outputs": [
    {
     "name": "stdout",
     "output_type": "stream",
     "text": [
      "Start time: 2018-08-08 13:23:34.988239\n"
     ]
    }
   ],
   "source": [
    "print(\"Start time: \" + str(datetime.now()))"
   ]
  },
  {
   "cell_type": "code",
   "execution_count": 38,
   "metadata": {},
   "outputs": [
    {
     "data": {
      "text/html": [
       "<div>\n",
       "<style scoped>\n",
       "    .dataframe tbody tr th:only-of-type {\n",
       "        vertical-align: middle;\n",
       "    }\n",
       "\n",
       "    .dataframe tbody tr th {\n",
       "        vertical-align: top;\n",
       "    }\n",
       "\n",
       "    .dataframe thead th {\n",
       "        text-align: right;\n",
       "    }\n",
       "</style>\n",
       "<table border=\"1\" class=\"dataframe\">\n",
       "  <thead>\n",
       "    <tr style=\"text-align: right;\">\n",
       "      <th></th>\n",
       "      <th>IncidntNum</th>\n",
       "      <th>Category</th>\n",
       "      <th>Descript</th>\n",
       "      <th>DayOfWeek</th>\n",
       "      <th>Date</th>\n",
       "      <th>Time</th>\n",
       "      <th>PdDistrict</th>\n",
       "      <th>Resolution</th>\n",
       "      <th>Address</th>\n",
       "      <th>X</th>\n",
       "      <th>Y</th>\n",
       "      <th>Location</th>\n",
       "      <th>PdId</th>\n",
       "    </tr>\n",
       "  </thead>\n",
       "  <tbody>\n",
       "    <tr>\n",
       "      <th>0</th>\n",
       "      <td>189014013</td>\n",
       "      <td>NON-CRIMINAL</td>\n",
       "      <td>STAY AWAY OR COURT ORDER, NON-DV RELATED</td>\n",
       "      <td>Monday</td>\n",
       "      <td>01/01/2018</td>\n",
       "      <td>22:37</td>\n",
       "      <td>TARAVAL</td>\n",
       "      <td>ARREST, BOOKED</td>\n",
       "      <td>3500 Block of 19TH AV</td>\n",
       "      <td>-122.474829</td>\n",
       "      <td>37.723976</td>\n",
       "      <td>(37.723975823482135, -122.47482947577244)</td>\n",
       "      <td>18901401371024</td>\n",
       "    </tr>\n",
       "    <tr>\n",
       "      <th>1</th>\n",
       "      <td>186095971</td>\n",
       "      <td>OTHER OFFENSES</td>\n",
       "      <td>OBSCENE PHONE CALLS(S)</td>\n",
       "      <td>Monday</td>\n",
       "      <td>01/01/2018</td>\n",
       "      <td>08:00</td>\n",
       "      <td>TENDERLOIN</td>\n",
       "      <td>NONE</td>\n",
       "      <td>500 Block of EDDY ST</td>\n",
       "      <td>-122.416711</td>\n",
       "      <td>37.783357</td>\n",
       "      <td>(37.78335703909351, -122.41671073384802)</td>\n",
       "      <td>18609597119050</td>\n",
       "    </tr>\n",
       "    <tr>\n",
       "      <th>2</th>\n",
       "      <td>186084021</td>\n",
       "      <td>FRAUD</td>\n",
       "      <td>CREDIT CARD, THEFT BY USE OF</td>\n",
       "      <td>Monday</td>\n",
       "      <td>01/01/2018</td>\n",
       "      <td>00:01</td>\n",
       "      <td>NORTHERN</td>\n",
       "      <td>NONE</td>\n",
       "      <td>1200 Block of EDDY ST</td>\n",
       "      <td>-122.428223</td>\n",
       "      <td>37.781896</td>\n",
       "      <td>(37.78189594886033, -122.42822330317604)</td>\n",
       "      <td>18608402109320</td>\n",
       "    </tr>\n",
       "    <tr>\n",
       "      <th>3</th>\n",
       "      <td>186072593</td>\n",
       "      <td>NON-CRIMINAL</td>\n",
       "      <td>LOST PROPERTY</td>\n",
       "      <td>Monday</td>\n",
       "      <td>01/01/2018</td>\n",
       "      <td>17:00</td>\n",
       "      <td>MISSION</td>\n",
       "      <td>NONE</td>\n",
       "      <td>2100 Block of MARKET ST</td>\n",
       "      <td>-122.429789</td>\n",
       "      <td>37.766652</td>\n",
       "      <td>(37.766652147476215, -122.4297889869883)</td>\n",
       "      <td>18607259371000</td>\n",
       "    </tr>\n",
       "    <tr>\n",
       "      <th>4</th>\n",
       "      <td>186063279</td>\n",
       "      <td>LARCENY/THEFT</td>\n",
       "      <td>GRAND THEFT FROM LOCKED AUTO</td>\n",
       "      <td>Monday</td>\n",
       "      <td>01/01/2018</td>\n",
       "      <td>22:00</td>\n",
       "      <td>SOUTHERN</td>\n",
       "      <td>NONE</td>\n",
       "      <td>800 Block of BRYANT ST</td>\n",
       "      <td>-122.403405</td>\n",
       "      <td>37.775421</td>\n",
       "      <td>(37.775420706711, -122.40340479147905)</td>\n",
       "      <td>18606327906244</td>\n",
       "    </tr>\n",
       "  </tbody>\n",
       "</table>\n",
       "</div>"
      ],
      "text/plain": [
       "   IncidntNum        Category                                  Descript  \\\n",
       "0   189014013    NON-CRIMINAL  STAY AWAY OR COURT ORDER, NON-DV RELATED   \n",
       "1   186095971  OTHER OFFENSES                    OBSCENE PHONE CALLS(S)   \n",
       "2   186084021           FRAUD              CREDIT CARD, THEFT BY USE OF   \n",
       "3   186072593    NON-CRIMINAL                             LOST PROPERTY   \n",
       "4   186063279   LARCENY/THEFT              GRAND THEFT FROM LOCKED AUTO   \n",
       "\n",
       "  DayOfWeek        Date   Time  PdDistrict      Resolution  \\\n",
       "0    Monday  01/01/2018  22:37     TARAVAL  ARREST, BOOKED   \n",
       "1    Monday  01/01/2018  08:00  TENDERLOIN            NONE   \n",
       "2    Monday  01/01/2018  00:01    NORTHERN            NONE   \n",
       "3    Monday  01/01/2018  17:00     MISSION            NONE   \n",
       "4    Monday  01/01/2018  22:00    SOUTHERN            NONE   \n",
       "\n",
       "                   Address           X          Y  \\\n",
       "0    3500 Block of 19TH AV -122.474829  37.723976   \n",
       "1     500 Block of EDDY ST -122.416711  37.783357   \n",
       "2    1200 Block of EDDY ST -122.428223  37.781896   \n",
       "3  2100 Block of MARKET ST -122.429789  37.766652   \n",
       "4   800 Block of BRYANT ST -122.403405  37.775421   \n",
       "\n",
       "                                    Location            PdId  \n",
       "0  (37.723975823482135, -122.47482947577244)  18901401371024  \n",
       "1   (37.78335703909351, -122.41671073384802)  18609597119050  \n",
       "2   (37.78189594886033, -122.42822330317604)  18608402109320  \n",
       "3   (37.766652147476215, -122.4297889869883)  18607259371000  \n",
       "4     (37.775420706711, -122.40340479147905)  18606327906244  "
      ]
     },
     "execution_count": 38,
     "metadata": {},
     "output_type": "execute_result"
    }
   ],
   "source": [
    "file_in ='Resources/SFPD_CrimeIncidents_2018.csv'\n",
    "file_out ='SF_Police_Department_Incidents_2018_clean.csv'\n",
    "\n",
    "df= pd.read_csv(file_in)\n",
    "\n",
    "# Add function to return first n rows\n"
   ]
  },
  {
   "cell_type": "code",
   "execution_count": 39,
   "metadata": {},
   "outputs": [
    {
     "name": "stdout",
     "output_type": "stream",
     "text": [
      "46668\n"
     ]
    }
   ],
   "source": [
    "print(len(df))"
   ]
  },
  {
   "cell_type": "code",
   "execution_count": 40,
   "metadata": {},
   "outputs": [
    {
     "name": "stdout",
     "output_type": "stream",
     "text": [
      "35559\n"
     ]
    }
   ],
   "source": [
    "# Check if duplicate file is found before running to make clean file\n",
    "file_out_dupes = Path('Resources/SF_Police_Department_Incidents_dupes.csv')\n",
    "if file_out_dupes.is_file():\n",
    "    #print(\"Duplicates found\")\n",
    "    # CSV module to specify input and out files\n",
    "    with open(file_in, 'r') as fin, open(file_out, 'w', newline='') as fout:\n",
    "        reader = csv.reader(fin)\n",
    "        writer = csv.writer(fout)\n",
    "        # Create an empty dictionary\n",
    "        d = {}\n",
    "        for row in reader:\n",
    "            # row[0] refers to IncidntNum\n",
    "            DR = row[0]\n",
    "            # write row if not found\n",
    "            if DR not in d:\n",
    "                d[DR] = row\n",
    "                writer.writerow(row)\n",
    "            elif DR in d:\n",
    "                continue\n",
    "            else:\n",
    "                continue\n",
    "    #result = d.values()\n",
    "    #df= pd.read_csv(file_out)\n",
    "\n",
    "    print(len(df))\n",
    "else:\n",
    "    pass"
   ]
  },
  {
   "cell_type": "code",
   "execution_count": null,
   "metadata": {},
   "outputs": [],
   "source": []
  },
  {
   "cell_type": "code",
   "execution_count": null,
   "metadata": {},
   "outputs": [],
   "source": []
  }
 ],
 "metadata": {
  "kernelspec": {
   "display_name": "Python 3",
   "language": "python",
   "name": "python3"
  },
  "language_info": {
   "codemirror_mode": {
    "name": "ipython",
    "version": 3
   },
   "file_extension": ".py",
   "mimetype": "text/x-python",
   "name": "python",
   "nbconvert_exporter": "python",
   "pygments_lexer": "ipython3",
   "version": "3.6.5"
  }
 },
 "nbformat": 4,
 "nbformat_minor": 2
}
